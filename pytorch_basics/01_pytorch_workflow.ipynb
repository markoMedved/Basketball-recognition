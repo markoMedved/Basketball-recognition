{
 "cells": [
  {
   "cell_type": "markdown",
   "metadata": {},
   "source": [
    "## PyTorch Workflow\n",
    "\n",
    "Let's explore an example PyTorch end-to-end workflow"
   ]
  },
  {
   "cell_type": "code",
   "execution_count": 279,
   "metadata": {},
   "outputs": [
    {
     "data": {
      "text/plain": [
       "{1: 'data prepare and load',\n",
       " 2: 'build model',\n",
       " 3: 'fitting the model to data (training)',\n",
       " 4: 'making predictions and evaluating a model (inference)',\n",
       " 5: 'saving and loading the model',\n",
       " 6: 'putting it all together'}"
      ]
     },
     "execution_count": 279,
     "metadata": {},
     "output_type": "execute_result"
    }
   ],
   "source": [
    "what_were_covering = {  1:\"data prepare and load\",\n",
    "                        2:\"build model\",\n",
    "                        3:\"fitting the model to data (training)\",\n",
    "                        4:\"making predictions and evaluating a model (inference)\",\n",
    "                        5:\"saving and loading the model\",\n",
    "                        6:\"putting it all together\"}\n",
    "what_were_covering"
   ]
  },
  {
   "cell_type": "code",
   "execution_count": 280,
   "metadata": {},
   "outputs": [
    {
     "data": {
      "text/plain": [
       "'2.6.0+cu126'"
      ]
     },
     "execution_count": 280,
     "metadata": {},
     "output_type": "execute_result"
    }
   ],
   "source": [
    "import torch\n",
    "from torch import nn # nn contains all of PyTorch's building blocks for neural networks\n",
    "import matplotlib.pyplot as plt\n",
    "\n",
    "# Check PyTorch vesion\n",
    "torch.__version__"
   ]
  },
  {
   "cell_type": "markdown",
   "metadata": {},
   "source": [
    "## 1. Data preparation and loading\n",
    "\n",
    "Data can be almost anything in machine learning\n",
    "* Excel spreadsheet\n",
    "* Images of any kind\n",
    "* Videos \n",
    "* Audio\n",
    "* DNA\n",
    "* Text\n",
    "\n",
    "Machine learning is a game of 2 parts:\n",
    "1. Get data into a numerical representation\n",
    "2. Build a model to learn patterns in that numerical representation\n",
    "\n",
    "To showcase this, let's create some *known* data using the linear regression formula.\n",
    "\n",
    "We'll use a linear regression formula to make a straight line with *known* **parameters**"
   ]
  },
  {
   "cell_type": "code",
   "execution_count": 281,
   "metadata": {},
   "outputs": [
    {
     "name": "stdout",
     "output_type": "stream",
     "text": [
      "tensor([[0.0000],\n",
      "        [0.0200],\n",
      "        [0.0400],\n",
      "        [0.0600],\n",
      "        [0.0800],\n",
      "        [0.1000],\n",
      "        [0.1200],\n",
      "        [0.1400],\n",
      "        [0.1600],\n",
      "        [0.1800]]) tensor([[0.3000],\n",
      "        [0.3180],\n",
      "        [0.3360],\n",
      "        [0.3540],\n",
      "        [0.3720],\n",
      "        [0.3900],\n",
      "        [0.4080],\n",
      "        [0.4260],\n",
      "        [0.4440],\n",
      "        [0.4620]]) 50 50\n"
     ]
    }
   ],
   "source": [
    "# Create *known* parameters\n",
    "weight = 0.9\n",
    "bias = 0.3\n",
    "\n",
    "# Create some data\n",
    "start = 0\n",
    "end = 1\n",
    "step = 0.02\n",
    "X = torch.arange(start, end, step).unsqueeze(dim=1)\n",
    "y = weight * X + bias\n",
    "\n",
    "print(X[:10], y[:10], len(X), len(y))"
   ]
  },
  {
   "cell_type": "markdown",
   "metadata": {},
   "source": [
    "### Splitting data into training and test sets\n",
    "\n",
    "Let's create a training and test set with our data"
   ]
  },
  {
   "cell_type": "code",
   "execution_count": 282,
   "metadata": {},
   "outputs": [
    {
     "data": {
      "text/plain": [
       "(40, 40, 10, 10)"
      ]
     },
     "execution_count": 282,
     "metadata": {},
     "output_type": "execute_result"
    }
   ],
   "source": [
    "# Create a train/test split\n",
    "train_split = int(0.8 * len(X))\n",
    "X_train, y_train = X[:train_split], y[:train_split]\n",
    "X_test, y_test = X[train_split:], y[train_split:]\n",
    "\n",
    "len(X_train), len(y_train), len(X_test), len(y_test)"
   ]
  },
  {
   "cell_type": "markdown",
   "metadata": {},
   "source": [
    "How might we visualize our data?\n",
    "\n",
    "\"Visualize, visualize, visualize\""
   ]
  },
  {
   "cell_type": "code",
   "execution_count": 283,
   "metadata": {},
   "outputs": [
    {
     "data": {
      "image/png": "[encoded data removed]",
      "text/plain": [
       "<Figure size 1000x700 with 1 Axes>"
      ]
     },
     "metadata": {},
     "output_type": "display_data"
    }
   ],
   "source": [
    "def plot_prediction(train_data, train_labels, test_data,test_labels, predictions = None):\n",
    "    \"\"\"\n",
    "    Plots training data, test data and compares predictions\n",
    "    \"\"\"\n",
    "    plt.figure(figsize=(10,7))\n",
    "    \n",
    "    # Plot training data in blue\n",
    "    plt.scatter(train_data, train_labels, c=\"b\", s=4, label=\"Training data\")\n",
    "\n",
    "    # PLot test data in green\n",
    "    plt.scatter(test_data, test_labels, c=\"g\", s=4, label=\"Testing data\")\n",
    "\n",
    "    # Are there predicitons?\n",
    "    if predictions is not None:\n",
    "        # Plot predictions if they exists\n",
    "        plt.scatter(test_data, predictions, c= \"r\", s = 4, label=\"Predicitions\")\n",
    "\n",
    "    # Show the legends\n",
    "    plt.legend()\n",
    "\n",
    "\n",
    "plot_prediction(X_train, y_train, X_test, y_test)\n"
   ]
  },
  {
   "cell_type": "markdown",
   "metadata": {},
   "source": [
    "## 2. Build model\n",
    "\n",
    "First PyTorch model\n",
    "\n",
    "Python classes (OOP): https://realpython.com/python3-object-oriented-programming/\n",
    "\n",
    "\n",
    "What our model does:\n",
    "* Start with random values (weight & bias)\n",
    "* Look at training data and adjust the random values to better represent (or get closer to) the ideal values \n",
    "\n",
    "How does it do so?\n",
    "\n",
    "Through 2 main algorithms:\n",
    "1. Gradient descent\n",
    "2. Backpropagation"
   ]
  },
  {
   "cell_type": "code",
   "execution_count": 284,
   "metadata": {},
   "outputs": [],
   "source": [
    "# Create a linear regression model class\n",
    "class LinearRegressionModel(nn.Module): # <- almost everything in PyTorch inherits from nn.Module\n",
    "    def __init__(self):\n",
    "        super().__init__()\n",
    "        self.weights = nn.Parameter(torch.randn(1, requires_grad=True, dtype=torch.float)) # requires_grad = True by default\n",
    "        self.bias = nn.Parameter(torch.randn(1, requires_grad=True, dtype=torch.float))\n",
    "\n",
    "    # Forward method to define the computation in the model (every class that inherits nn.Module must ovverride that)\n",
    "    def forward(self, x: torch.Tensor) -> torch.Tensor: # <- \"x\" is the input data\n",
    "        return self.weights * x + self.bias # Linear regression formula\n"
   ]
  },
  {
   "cell_type": "markdown",
   "metadata": {},
   "source": [
    "### PyTorch model building essentials\n",
    "\n",
    "* torch.nn - contains all of the buildings for computational graphs (nn can be considered a computational graph)\n",
    "* torch.nn.Parametere - what parameteres should our model try and learn, often a PyTorch layer from torch.nn will set these for us\n",
    "* torch.nn.Moduel - The base class for all nerual network moduels, if you inherit it, you should override forward\n",
    "* torch.optim - this is where the optimizers in PyTorch live, they will help with gradient descent\n",
    "* def forward() - All nn.Module subclasses require you to overwrite forward(), this method defines what happens in the forward computation\n",
    "\n",
    "ref: pytorch docs cheatsheet"
   ]
  },
  {
   "cell_type": "markdown",
   "metadata": {},
   "source": [
    "### Checking the contents of our PyTorch model\n",
    "\n",
    "Now we've created the model let's see what is inside...\n",
    "\n",
    "So we can check our model parameters or what's inside our model using `.parameters()`"
   ]
  },
  {
   "cell_type": "code",
   "execution_count": 285,
   "metadata": {},
   "outputs": [
    {
     "data": {
      "text/plain": [
       "[Parameter containing:\n",
       " tensor([0.3367], requires_grad=True),\n",
       " Parameter containing:\n",
       " tensor([0.1288], requires_grad=True)]"
      ]
     },
     "execution_count": 285,
     "metadata": {},
     "output_type": "execute_result"
    }
   ],
   "source": [
    "# Create a random seed\n",
    "RANDOM_SEED = 42\n",
    "torch.manual_seed(RANDOM_SEED)\n",
    "\n",
    "# CReate and instance of the model (this is a sublclass of nn.Module)\n",
    "model_0 = LinearRegressionModel() \n",
    "\n",
    "# Check out the parameters\n",
    "list(model_0.parameters())"
   ]
  },
  {
   "cell_type": "code",
   "execution_count": 286,
   "metadata": {},
   "outputs": [
    {
     "name": "stdout",
     "output_type": "stream",
     "text": [
      "OrderedDict([('weights', tensor([0.3367])), ('bias', tensor([0.1288]))])\n"
     ]
    },
    {
     "data": {
      "text/plain": [
       "(0.9, 0.3)"
      ]
     },
     "execution_count": 286,
     "metadata": {},
     "output_type": "execute_result"
    }
   ],
   "source": [
    "# List name parameters\n",
    "print(model_0.state_dict())\n",
    "\n",
    "weight, bias"
   ]
  },
  {
   "cell_type": "markdown",
   "metadata": {},
   "source": [
    "### Making predictions using `torch.inference_mode()`\n",
    "\n",
    "To check our model's predictive power, let's seee how well it predicts `y_test` on `X_test`\n",
    "\n",
    "When we pass data through out model, it's going to run it throuhg the `forward()`"
   ]
  },
  {
   "cell_type": "code",
   "execution_count": 287,
   "metadata": {},
   "outputs": [
    {
     "data": {
      "text/plain": [
       "tensor([[0.3982],\n",
       "        [0.4049],\n",
       "        [0.4116],\n",
       "        [0.4184],\n",
       "        [0.4251],\n",
       "        [0.4318],\n",
       "        [0.4386],\n",
       "        [0.4453],\n",
       "        [0.4520],\n",
       "        [0.4588]], grad_fn=<AddBackward0>)"
      ]
     },
     "execution_count": 287,
     "metadata": {},
     "output_type": "execute_result"
    }
   ],
   "source": [
    "# This is slower\n",
    "y_preds = model_0(X_test)\n",
    "y_preds"
   ]
  },
  {
   "cell_type": "code",
   "execution_count": 288,
   "metadata": {},
   "outputs": [
    {
     "data": {
      "text/plain": [
       "tensor([[0.3982],\n",
       "        [0.4049],\n",
       "        [0.4116],\n",
       "        [0.4184],\n",
       "        [0.4251],\n",
       "        [0.4318],\n",
       "        [0.4386],\n",
       "        [0.4453],\n",
       "        [0.4520],\n",
       "        [0.4588]])"
      ]
     },
     "execution_count": 288,
     "metadata": {},
     "output_type": "execute_result"
    }
   ],
   "source": [
    "# use this for inference\n",
    "with torch.inference_mode():\n",
    "    y_preds = model_0(X_test)\n",
    "\n",
    "#similar, but worse, inference mode is better\n",
    "with torch.no_grad():\n",
    "    y_preds = model_0(X_test)\n",
    "\n",
    "y_preds "
   ]
  },
  {
   "cell_type": "code",
   "execution_count": 289,
   "metadata": {},
   "outputs": [
    {
     "data": {
      "image/png": "[encoded data removed]",
      "text/plain": [
       "<Figure size 1000x700 with 1 Axes>"
      ]
     },
     "metadata": {},
     "output_type": "display_data"
    }
   ],
   "source": [
    "#Basically random predictions\n",
    "plot_prediction(X_train, y_train, X_test, y_test, y_preds)"
   ]
  },
  {
   "cell_type": "markdown",
   "metadata": {},
   "source": [
    "## 3. Train model\n",
    "\n",
    "The whole idea of training is for a model to move from some unknown parameters (these may be random) to some known parameters\n",
    "\n",
    "From a poor represenation of the data to a better representation\n",
    "\n",
    "One way to measure how wrong your model's predictions are is to use a loss/cost function (criterion).\n",
    "\n",
    "Things we need to train:\n",
    "\n",
    "* **Loss function:** A function to measure how wrong your model's predictoins are to the ideal outputs.\n",
    "* **Optimizer:** Takes into account the loss of a model and adjusts the models parameters (e.g. weight and bias values) to improve the loss function. \n",
    "\n",
    "And specificall for PyTorch we need:\n",
    "* A training loop\n",
    "* A testing loop\n"
   ]
  },
  {
   "cell_type": "code",
   "execution_count": 290,
   "metadata": {},
   "outputs": [
    {
     "data": {
      "text/plain": [
       "OrderedDict([('weights', tensor([0.3367])), ('bias', tensor([0.1288]))])"
      ]
     },
     "execution_count": 290,
     "metadata": {},
     "output_type": "execute_result"
    }
   ],
   "source": [
    "# Check out the models parameters (a parameter is a value theat the model sets itself)\n",
    "model_0.state_dict()"
   ]
  },
  {
   "cell_type": "markdown",
   "metadata": {},
   "source": [
    "#### Which optimizer\n",
    "* regression : ex. SGD\n",
    "* classification :  ex. BCEloss"
   ]
  },
  {
   "cell_type": "code",
   "execution_count": 298,
   "metadata": {},
   "outputs": [],
   "source": [
    "# Setup a loss function \n",
    "loss_fn = nn.L1Loss()\n",
    "\n",
    "# Setup an optimizer, you have to often set the params and the learning rate\n",
    "optimizer = torch.optim.SGD(model_0.parameters(),\n",
    "                            lr = 0.01) #lr = learning rate (important hyperparameter, you can set), larger learning rate, larger change in the parameter\n"
   ]
  },
  {
   "cell_type": "markdown",
   "metadata": {},
   "source": [
    "### Building a training (and testing) loop in PyTorch\n",
    "\n",
    "A couple of things we need in a training loop:\n",
    "\n",
    "0. Loop through the data \n",
    "1. Forward pass/propagation to make predictions on data(this involves data moving through model's `forward()` functions) \n",
    "2. Calculate the loss (compare forward pass predictions to ground truth labels)\n",
    "3. Optimize zero grad\n",
    "4. Loss backward - move backwards through the network to calculate the gradients of each of the parameters of our model with respect to the loss (**backpropagation**)\n",
    "5. Optimizer step - use the optimizer to adjust out model's parameters to try and improve the loss (**gradient descent**)\n",
    "\n",
    "learning rate scheduling - make smaller steps as you are closer to the minimum"
   ]
  },
  {
   "cell_type": "code",
   "execution_count": 301,
   "metadata": {},
   "outputs": [
    {
     "name": "stdout",
     "output_type": "stream",
     "text": [
      "Epoch: 0 | Loss: 0.056321561336517334 | Test loss: 0.1310899555683136\n",
      "OrderedDict([('weights', tensor([0.6215])), ('bias', tensor([0.4168]))])\n",
      "Epoch: 100 | Loss: 0.021976912394165993 | Test loss: 0.050425171852111816\n",
      "OrderedDict([('weights', tensor([0.7924])), ('bias', tensor([0.3453]))])\n",
      "Epoch: 200 | Loss: 0.005989248864352703 | Test loss: 0.008535897359251976\n",
      "OrderedDict([('weights', tensor([0.8940])), ('bias', tensor([0.2968]))])\n",
      "Epoch: 300 | Loss: 0.005989248864352703 | Test loss: 0.008535897359251976\n",
      "OrderedDict([('weights', tensor([0.8940])), ('bias', tensor([0.2968]))])\n",
      "Epoch: 400 | Loss: 0.005989248864352703 | Test loss: 0.008535897359251976\n",
      "OrderedDict([('weights', tensor([0.8940])), ('bias', tensor([0.2968]))])\n",
      "Epoch: 500 | Loss: 0.005989248864352703 | Test loss: 0.008535897359251976\n",
      "OrderedDict([('weights', tensor([0.8940])), ('bias', tensor([0.2968]))])\n",
      "Epoch: 600 | Loss: 0.005989248864352703 | Test loss: 0.008535897359251976\n",
      "OrderedDict([('weights', tensor([0.8940])), ('bias', tensor([0.2968]))])\n",
      "Epoch: 700 | Loss: 0.005989248864352703 | Test loss: 0.008535897359251976\n",
      "OrderedDict([('weights', tensor([0.8940])), ('bias', tensor([0.2968]))])\n",
      "Epoch: 800 | Loss: 0.005989248864352703 | Test loss: 0.008535897359251976\n",
      "OrderedDict([('weights', tensor([0.8940])), ('bias', tensor([0.2968]))])\n",
      "Epoch: 900 | Loss: 0.005989248864352703 | Test loss: 0.008535897359251976\n",
      "OrderedDict([('weights', tensor([0.8940])), ('bias', tensor([0.2968]))])\n"
     ]
    }
   ],
   "source": [
    "torch.manual_seed(42)\n",
    "\n",
    "# An epoch is one loop through the data... (this is a hyperparameter because we have set it ourselves)\n",
    "epochs = 1000\n",
    "\n",
    "### Traning\n",
    "# 0. Looop through the data\n",
    "for epoch in range(epochs):\n",
    "    # Set the model to training mode\n",
    "    model_0.train() # train mode sets all paramters that require gradients to have gradients\n",
    "\n",
    "    # 1. Forward pass\n",
    "    y_pred = model_0(X_train) \n",
    "\n",
    "    # 2. Calculate the loss\n",
    "    loss = loss_fn(y_pred, y_train)\n",
    "    #print(f\"loss = {loss}\")\n",
    "\n",
    "    # 3. Optimizer zero grad\n",
    "    optimizer.zero_grad()\n",
    "\n",
    "    # 4. Perform backpropagation on the loss with respect to the parameters of the model\n",
    "    loss.backward()\n",
    "\n",
    "    # 5. Step the optimizer (perform gradient descent)\n",
    "    optimizer.step() # by default how the optimizer changes will accumulate through the loop... we have to zero them above in step 3 for the next iteration\n",
    "    \n",
    "    \n",
    "    \n",
    "\n",
    "    ### Testing \n",
    "    model_0.eval() # turns off  stuff no needed for evaluation/testing (dropout layers, batch norm (normalizations layers))\n",
    "    with torch.inference_mode(): # turns of gradient tracking and a couple more things - look at pytorch tweet, torch.no_grad() also in older code\n",
    "        # 1. Do the forward pass \n",
    "        test_pred = model_0(X_test)\n",
    "\n",
    "        # 2. Calculate the loss\n",
    "        test_loss = loss_fn(y_test, test_pred)\n",
    "\n",
    "    # print out what is happening\n",
    "    if epoch %100 == 0:\n",
    "        print(f\"Epoch: {epoch} | Loss: {loss} | Test loss: {test_loss}\")\n",
    "        print(model_0.state_dict())\n"
   ]
  },
  {
   "cell_type": "code",
   "execution_count": 302,
   "metadata": {},
   "outputs": [
    {
     "data": {
      "image/png": "[encoded data removed]",
      "text/plain": [
       "<Figure size 1000x700 with 1 Axes>"
      ]
     },
     "metadata": {},
     "output_type": "display_data"
    }
   ],
   "source": [
    "# Predictions \n",
    "with torch.inference_mode():\n",
    "    y_preds_new = model_0(X_test)\n",
    "\n",
    "plot_prediction(X_train, y_train, X_test, y_test, y_preds_new)"
   ]
  }
 ],
 "metadata": {
  "kernelspec": {
   "display_name": "pytorch",
   "language": "python",
   "name": "python3"
  },
  "language_info": {
   "codemirror_mode": {
    "name": "ipython",
    "version": 3
   },
   "file_extension": ".py",
   "mimetype": "text/x-python",
   "name": "python",
   "nbconvert_exporter": "python",
   "pygments_lexer": "ipython3",
   "version": "3.10.16"
  }
 },
 "nbformat": 4,
 "nbformat_minor": 2
}
