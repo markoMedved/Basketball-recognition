{
 "cells": [
  {
   "cell_type": "markdown",
   "metadata": {},
   "source": [
    "### 00. Pytorch fundementals"
   ]
  },
  {
   "cell_type": "code",
   "execution_count": 184,
   "metadata": {},
   "outputs": [
    {
     "name": "stdout",
     "output_type": "stream",
     "text": [
      "2.6.0+cu126\n"
     ]
    }
   ],
   "source": [
    "import torch \n",
    "import pandas as pd\n",
    "import numpy as np\n",
    "import matplotlib.pyplot as plt \n",
    "\n",
    "print(torch.__version__)"
   ]
  },
  {
   "cell_type": "markdown",
   "metadata": {},
   "source": [
    "## Introduction to tensors\n",
    "\n",
    "### Creating tensors\n",
    "\n",
    "Pytorch tensors are created by `torch.tensor()`"
   ]
  },
  {
   "cell_type": "code",
   "execution_count": 185,
   "metadata": {},
   "outputs": [
    {
     "name": "stdout",
     "output_type": "stream",
     "text": [
      "tensor(7)\n",
      "0\n",
      "7\n"
     ]
    }
   ],
   "source": [
    "# Scalar\n",
    "scalar = torch.tensor(7)\n",
    "print(scalar)\n",
    "\n",
    "# Number of dimensions of a tensor\n",
    "print(scalar.ndim)\n",
    "\n",
    "# Get tensor back as python int \n",
    "print(scalar.item())"
   ]
  },
  {
   "cell_type": "code",
   "execution_count": 186,
   "metadata": {},
   "outputs": [
    {
     "name": "stdout",
     "output_type": "stream",
     "text": [
      "tensor([  4, 432,   3])\n",
      "1\n",
      "torch.Size([3])\n"
     ]
    }
   ],
   "source": [
    "# Vector\n",
    "vector = torch.tensor([4,432,3])\n",
    "print(vector)\n",
    "# Dimensions\n",
    "print(vector.ndim)\n",
    "# Shape\n",
    "print(vector.shape)"
   ]
  },
  {
   "cell_type": "code",
   "execution_count": 187,
   "metadata": {},
   "outputs": [
    {
     "name": "stdout",
     "output_type": "stream",
     "text": [
      "2\n",
      "torch.Size([2, 2])\n"
     ]
    }
   ],
   "source": [
    "# Matrix, often uppercase nomenclature\n",
    "MATRIX = torch.tensor([[7,8], [23,3]])\n",
    "print(MATRIX.ndim)\n",
    "print(MATRIX.shape)"
   ]
  },
  {
   "cell_type": "code",
   "execution_count": 188,
   "metadata": {},
   "outputs": [
    {
     "name": "stdout",
     "output_type": "stream",
     "text": [
      "torch.Size([2, 2, 3])\n",
      "3\n",
      "tensor([[23,  3, 23],\n",
      "        [ 2,  3,  4]])\n"
     ]
    }
   ],
   "source": [
    "# Tensor, ofter uppercase nomenclature\n",
    "TENSOR = torch.tensor([[[23,3,23], [2,3,4]],\n",
    "                        [[23,32,3], [32,3,23]]])\n",
    "print(TENSOR.shape)\n",
    "print(TENSOR.ndim)\n",
    "print(TENSOR[0])"
   ]
  },
  {
   "cell_type": "markdown",
   "metadata": {},
   "source": [
    "### Random tensors\n",
    "\n",
    "Random tensors are important because the way many neural networks work is that they start with random numbers, and then adjust those random numbers to better represent the data\n",
    "\n",
    "`Start with random numbers -> look at data -> update random numbers -> look at data -> update numbers...`"
   ]
  },
  {
   "cell_type": "code",
   "execution_count": 189,
   "metadata": {},
   "outputs": [
    {
     "name": "stdout",
     "output_type": "stream",
     "text": [
      "tensor([[[0.4099, 0.6578, 0.3139, 0.7956],\n",
      "         [0.8734, 0.5901, 0.8618, 0.8661],\n",
      "         [0.9594, 0.9358, 0.7242, 0.8604]],\n",
      "\n",
      "        [[0.5097, 0.4726, 0.6141, 0.9994],\n",
      "         [0.9468, 0.6138, 0.3517, 0.0536],\n",
      "         [0.0310, 0.5128, 0.3997, 0.3436]]])\n",
      "3\n",
      "torch.Size([2, 3, 4])\n"
     ]
    }
   ],
   "source": [
    "#Creating a random tensor of size (2,3,4)\n",
    "random_tensor = torch.rand(2,3,4)\n",
    "print(random_tensor)\n",
    "print(random_tensor.ndim)\n",
    "print(random_tensor.shape)"
   ]
  },
  {
   "cell_type": "code",
   "execution_count": 190,
   "metadata": {},
   "outputs": [
    {
     "name": "stdout",
     "output_type": "stream",
     "text": [
      "torch.Size([3, 224, 224]) 3\n"
     ]
    }
   ],
   "source": [
    "# Create a random tensor with a similar shape to an image tensor\n",
    "random_image_size_tensor = torch.rand(size=(3,224,224)) #height, width, color channels (R, G, B)\n",
    "print(random_image_size_tensor.shape, random_image_size_tensor.ndim)"
   ]
  },
  {
   "cell_type": "markdown",
   "metadata": {},
   "source": [
    "### Zeros and ones"
   ]
  },
  {
   "cell_type": "code",
   "execution_count": 191,
   "metadata": {},
   "outputs": [
    {
     "name": "stdout",
     "output_type": "stream",
     "text": [
      "tensor([[0., 0., 0., 0.],\n",
      "        [0., 0., 0., 0.],\n",
      "        [0., 0., 0., 0.]])\n",
      "tensor([[[0., 0., 0., 0.],\n",
      "         [0., 0., 0., 0.],\n",
      "         [0., 0., 0., 0.]],\n",
      "\n",
      "        [[0., 0., 0., 0.],\n",
      "         [0., 0., 0., 0.],\n",
      "         [0., 0., 0., 0.]]])\n",
      "tensor([[1., 1., 1., 1.],\n",
      "        [1., 1., 1., 1.],\n",
      "        [1., 1., 1., 1.]], dtype=torch.float64)\n",
      "torch.float64\n"
     ]
    }
   ],
   "source": [
    "# Create a tensor of all zeros \n",
    "zeros = torch.zeros(size = (3,4))\n",
    "print(zeros)\n",
    "print(zeros * random_tensor)\n",
    "\n",
    "# Create a tensor of all ones\n",
    "ones = torch.ones(size = (3,4), dtype=float)\n",
    "print(ones)\n",
    "print(ones.dtype)"
   ]
  },
  {
   "cell_type": "markdown",
   "metadata": {},
   "source": [
    "### Create a range of tensors and tensor-like"
   ]
  },
  {
   "cell_type": "code",
   "execution_count": 192,
   "metadata": {},
   "outputs": [
    {
     "name": "stdout",
     "output_type": "stream",
     "text": [
      "tensor([  39,   83,  127,  171,  215,  259,  303,  347,  391,  435,  479,  523,\n",
      "         567,  611,  655,  699,  743,  787,  831,  875,  919,  963, 1007, 1051,\n",
      "        1095, 1139, 1183, 1227, 1271, 1315, 1359, 1403, 1447, 1491, 1535, 1579,\n",
      "        1623, 1667, 1711, 1755, 1799, 1843, 1887, 1931, 1975, 2019, 2063, 2107,\n",
      "        2151, 2195, 2239, 2283, 2327, 2371, 2415, 2459, 2503, 2547, 2591, 2635,\n",
      "        2679, 2723, 2767, 2811, 2855, 2899, 2943, 2987, 3031, 3075, 3119, 3163,\n",
      "        3207])\n",
      "tensor([0, 0, 0, 0, 0, 0, 0, 0, 0, 0, 0, 0, 0, 0, 0, 0, 0, 0, 0, 0, 0, 0, 0, 0,\n",
      "        0, 0, 0, 0, 0, 0, 0, 0, 0, 0, 0, 0, 0, 0, 0, 0, 0, 0, 0, 0, 0, 0, 0, 0,\n",
      "        0, 0, 0, 0, 0, 0, 0, 0, 0, 0, 0, 0, 0, 0, 0, 0, 0, 0, 0, 0, 0, 0, 0, 0,\n",
      "        0])\n"
     ]
    }
   ],
   "source": [
    "# Use torch.arange\n",
    "one_to_eleven =  torch.arange(start=39, end = 3234, step =44)\n",
    "print(one_to_eleven)\n",
    "\n",
    "# Creating tensors-like (the same shape as the inputted tensor)\n",
    "ten_zeros = torch.zeros_like(input = one_to_eleven)\n",
    "print(ten_zeros)\n"
   ]
  },
  {
   "cell_type": "markdown",
   "metadata": {},
   "source": [
    "### Tensor datatypes\n",
    "\n",
    "**Note:** it is one of the 3 big errors you'll run into with PyTorch & deep learning:\n",
    "1. Tensors not right datatype\n",
    "2. Tensors not the right shape\n",
    "3. Tensors not on rigth device"
   ]
  },
  {
   "cell_type": "code",
   "execution_count": 193,
   "metadata": {},
   "outputs": [
    {
     "name": "stdout",
     "output_type": "stream",
     "text": [
      "torch.float32\n",
      "torch.float16\n"
     ]
    }
   ],
   "source": [
    "# Float_32 tensor\n",
    "# Look at datatypes torch.dtypes\n",
    "float_32_tensor = torch.tensor([3.0,6.0,9.0], # 3 most important params\n",
    "                               dtype=torch.float32, # data type of your sensor\n",
    "                             device=None,# which device your tensor is o\n",
    "                             requires_grad=False) # Wheather or not to track gradients\n",
    "print(float_32_tensor.dtype)\n",
    "\n",
    "# Converting \n",
    "float_16_tensor = float_32_tensor.type(torch.float16)\n",
    "print(float_16_tensor.dtype)"
   ]
  },
  {
   "cell_type": "code",
   "execution_count": 194,
   "metadata": {},
   "outputs": [
    {
     "name": "stdout",
     "output_type": "stream",
     "text": [
      "tensor([ 3,  2, 32], dtype=torch.int32)\n",
      "tensor([  9.,  12., 288.])\n",
      "tensor([  9., 138.,  27.])\n"
     ]
    }
   ],
   "source": [
    "int_32_tensor = torch.tensor([3,2,32], dtype=torch.int32)\n",
    "print(int_32_tensor)\n",
    "print(float_32_tensor * int_32_tensor)\n",
    "\n",
    "long_tensor = torch.tensor([3,23,3], dtype=torch.long)\n",
    "print(float_32_tensor * long_tensor)"
   ]
  },
  {
   "cell_type": "markdown",
   "metadata": {},
   "source": [
    "### Getting information from tensors (tensor attributes)\n",
    "\n",
    "device - .device\n",
    "\n",
    "data type - .dtype\n",
    "\n",
    "shape - .shape"
   ]
  },
  {
   "cell_type": "code",
   "execution_count": 195,
   "metadata": {},
   "outputs": [
    {
     "name": "stdout",
     "output_type": "stream",
     "text": [
      "tensor([[0.6401, 0.0332],\n",
      "        [0.3768, 0.2720],\n",
      "        [0.5560, 0.9709]], device='cuda:0')\n",
      "Device: cuda:0\n",
      "Data type: torch.float32\n",
      "Shape: torch.Size([3, 2])\n"
     ]
    }
   ],
   "source": [
    "some_tensor = torch.rand(size=(3,2), device=\"cuda\")\n",
    "print(some_tensor)\n",
    "print(f\"Device: {some_tensor.device}\\nData type: {some_tensor.dtype}\\nShape: {some_tensor.shape}\")\n"
   ]
  },
  {
   "cell_type": "markdown",
   "metadata": {},
   "source": [
    "### Manipulating tensors (tensor operations)\n",
    "\n",
    "Tensor operations:\n",
    "* Addition\n",
    "* Subtraction\n",
    "* Multiplication (element-wise)\n",
    "* Multiplication (Matrix)\n",
    "* Division"
   ]
  },
  {
   "cell_type": "code",
   "execution_count": 196,
   "metadata": {},
   "outputs": [
    {
     "name": "stdout",
     "output_type": "stream",
     "text": [
      "tensor([11, 12, 13])\n",
      "tensor([110, 120, 130])\n",
      "tensor([1, 2, 3])\n"
     ]
    },
    {
     "data": {
      "text/plain": [
       "tensor([110, 120, 130])"
      ]
     },
     "execution_count": 196,
     "metadata": {},
     "output_type": "execute_result"
    }
   ],
   "source": [
    "# Create a tensor, and add 10\n",
    "tensor = torch.tensor([1,2,3])\n",
    "tensor += 10\n",
    "print(tensor)\n",
    "print(tensor * 10) \n",
    "\n",
    "# Subtract\n",
    "print(tensor -10)\n",
    "\n",
    "# Try out PyTorch in-built functions\n",
    "torch.mul(tensor, 10)"
   ]
  },
  {
   "cell_type": "markdown",
   "metadata": {},
   "source": [
    "## Matrix multiplication\n",
    "\n",
    "3 main ways of performing multiplication in deep learning:\n",
    "* Element-wise multiplication\n",
    "* Matrix multiplication"
   ]
  },
  {
   "cell_type": "code",
   "execution_count": 197,
   "metadata": {},
   "outputs": [
    {
     "name": "stdout",
     "output_type": "stream",
     "text": [
      "tensor([11, 12, 13]) * tensor([11, 12, 13]) = tensor([121, 144, 169])\n",
      "tensor(434)\n"
     ]
    },
    {
     "data": {
      "text/plain": [
       "tensor(434)"
      ]
     },
     "execution_count": 197,
     "metadata": {},
     "output_type": "execute_result"
    }
   ],
   "source": [
    "# Element wise \n",
    "print(tensor, \"*\", tensor , \"=\", tensor*tensor)\n",
    "\n",
    "# Matrix multiplication\n",
    "print(tensor @ tensor)\n",
    "torch.matmul(tensor, tensor)"
   ]
  },
  {
   "cell_type": "code",
   "execution_count": 198,
   "metadata": {},
   "outputs": [
    {
     "name": "stdout",
     "output_type": "stream",
     "text": [
      "CPU times: total: 31.2 ms\n",
      "Wall time: 0 ns\n"
     ]
    }
   ],
   "source": [
    "%%time\n",
    "value = 0\n",
    "for i in range(len(tensor)):\n",
    "    value += tensor[i]"
   ]
  },
  {
   "cell_type": "code",
   "execution_count": 199,
   "metadata": {},
   "outputs": [
    {
     "name": "stdout",
     "output_type": "stream",
     "text": [
      "CPU times: total: 0 ns\n",
      "Wall time: 0 ns\n"
     ]
    },
    {
     "data": {
      "text/plain": [
       "tensor(434)"
      ]
     },
     "execution_count": 199,
     "metadata": {},
     "output_type": "execute_result"
    }
   ],
   "source": [
    "%%time\n",
    "torch.matmul(tensor,tensor)"
   ]
  },
  {
   "cell_type": "markdown",
   "metadata": {},
   "source": [
    "##### Matrix multiplication rules\n",
    "1. The **inner dimensions** must match\n",
    "2. The resulting matrix has the shape of the outer dimensions"
   ]
  },
  {
   "cell_type": "code",
   "execution_count": 200,
   "metadata": {},
   "outputs": [
    {
     "name": "stdout",
     "output_type": "stream",
     "text": [
      "torch.Size([3, 3])\n"
     ]
    },
    {
     "ename": "RuntimeError",
     "evalue": "mat1 and mat2 shapes cannot be multiplied (3x2 and 3x3)",
     "output_type": "error",
     "traceback": [
      "\u001b[1;31m---------------------------------------------------------------------------\u001b[0m",
      "\u001b[1;31mRuntimeError\u001b[0m                              Traceback (most recent call last)",
      "Cell \u001b[1;32mIn[200], line 3\u001b[0m\n\u001b[0;32m      1\u001b[0m \u001b[38;5;66;03m# Example\u001b[39;00m\n\u001b[0;32m      2\u001b[0m \u001b[38;5;28mprint\u001b[39m((torch\u001b[38;5;241m.\u001b[39mrand(\u001b[38;5;241m3\u001b[39m,\u001b[38;5;241m2\u001b[39m) \u001b[38;5;241m@\u001b[39m torch\u001b[38;5;241m.\u001b[39mrand(\u001b[38;5;241m2\u001b[39m,\u001b[38;5;241m3\u001b[39m))\u001b[38;5;241m.\u001b[39mshape) \u001b[38;5;66;03m# Works (inner dimensions are the same), dim is 3x3\u001b[39;00m\n\u001b[1;32m----> 3\u001b[0m \u001b[43mtorch\u001b[49m\u001b[38;5;241;43m.\u001b[39;49m\u001b[43mrand\u001b[49m\u001b[43m(\u001b[49m\u001b[38;5;241;43m3\u001b[39;49m\u001b[43m,\u001b[49m\u001b[38;5;241;43m2\u001b[39;49m\u001b[43m)\u001b[49m\u001b[43m \u001b[49m\u001b[38;5;129;43m@torch\u001b[39;49m\u001b[38;5;241;43m.\u001b[39;49m\u001b[43mrand\u001b[49m\u001b[43m(\u001b[49m\u001b[38;5;241;43m3\u001b[39;49m\u001b[43m,\u001b[49m\u001b[38;5;241;43m3\u001b[39;49m\u001b[43m)\u001b[49m \u001b[38;5;66;03m# Doesn't work\u001b[39;00m\n",
      "\u001b[1;31mRuntimeError\u001b[0m: mat1 and mat2 shapes cannot be multiplied (3x2 and 3x3)"
     ]
    }
   ],
   "source": [
    "# Example\n",
    "print((torch.rand(3,2) @ torch.rand(2,3)).shape) # Works (inner dimensions are the same), dim is 3x3\n",
    "torch.rand(3,2) @torch.rand(3,3) # Doesn't work"
   ]
  },
  {
   "cell_type": "code",
   "execution_count": 201,
   "metadata": {},
   "outputs": [
    {
     "name": "stdout",
     "output_type": "stream",
     "text": [
      "torch.Size([3, 2])\n",
      "torch.Size([2, 3])\n",
      "tensor([[1, 3, 5],\n",
      "        [2, 4, 6]])\n",
      "tensor([[ 76, 103],\n",
      "        [100, 136]])\n"
     ]
    }
   ],
   "source": [
    "# Shapes for matrix multiplications\n",
    "# Transposition\n",
    "tensor_A = torch.tensor([[1,2],\n",
    "                         [3,4],\n",
    "                         [5,6]])\n",
    "\n",
    "tensor_B = torch.tensor([[7,10],\n",
    "                         [8,11],\n",
    "                         [9,12]])\n",
    "# tensor.T for to get the transpose of the tensor\n",
    "print(tensor_A.shape)\n",
    "print(tensor_A.T.shape)\n",
    "print(tensor_A.T)\n",
    "print(tensor_A.T @ tensor_B)"
   ]
  },
  {
   "cell_type": "markdown",
   "metadata": {},
   "source": [
    "### Agregation functions: min, max, mean, sum, etc.\n"
   ]
  },
  {
   "cell_type": "code",
   "execution_count": 202,
   "metadata": {},
   "outputs": [
    {
     "data": {
      "text/plain": [
       "(tensor(450), tensor(450))"
      ]
     },
     "execution_count": 202,
     "metadata": {},
     "output_type": "execute_result"
    }
   ],
   "source": [
    "tensor = torch.arange(0,100,10)\n",
    "\n",
    "# Find the min\n",
    "torch.min(tensor), tensor.min()\n",
    "\n",
    "# Find teh max\n",
    "torch.max(tensor), tensor.max()\n",
    "\n",
    "# Find the mean, we have to convert to float, since the torch.mean() requires the float data type\n",
    "torch.mean(tensor.type(dtype=torch.float32)), tensor.type(dtype=torch.float32).mean()\n",
    "\n",
    "# Find the sum\n",
    "torch.sum(tensor), tensor.sum()"
   ]
  },
  {
   "cell_type": "code",
   "execution_count": 203,
   "metadata": {},
   "outputs": [
    {
     "data": {
      "text/plain": [
       "tensor(5)"
      ]
     },
     "execution_count": 203,
     "metadata": {},
     "output_type": "execute_result"
    }
   ],
   "source": [
    "# Postional min and max (find the index of the minimum value in the tensor)\n",
    "tensor = torch.tensor([[3,23,52,2,0,32342], [3,23,32,23,32,-23]])\n",
    "tensor.argmin()\n",
    "tensor.argmax()"
   ]
  },
  {
   "cell_type": "markdown",
   "metadata": {},
   "source": [
    "## Reshaping, stacking, squeezing and unsqueezing tensors\n",
    "\n",
    "* Reshaping - reshapes the input tensor to the defined shape\n",
    "* View - return a view of and input tensor of certain shape but keep the same memory as the original tensor\n",
    "* Stacking - combine multiple tensors on top of each other (vstack - vertical), (hstack - horizontal)\n",
    "* Squeeze - removes all `1` dimensions from a tensor\n",
    "* Unsqueeze - add a `1` dimension to a target tensor\n",
    "* Permute - REturn a view of the input with dimensions permuted (swapped) in a certain way"
   ]
  },
  {
   "cell_type": "code",
   "execution_count": 235,
   "metadata": {},
   "outputs": [
    {
     "name": "stdout",
     "output_type": "stream",
     "text": [
      "tensor([1, 2, 3, 4, 5, 6, 7, 8, 9]) torch.Size([9])\n",
      "tensor([[[1, 2, 3],\n",
      "         [4, 5, 6],\n",
      "         [7, 8, 9]]])\n",
      "tensor([[1, 2, 3, 4, 5, 6, 7, 8, 9]]) torch.Size([1, 9])\n",
      "tensor([[500,   2,   3,   4,   5,   6,   7,   8,   9]]) tensor([500,   2,   3,   4,   5,   6,   7,   8,   9])\n",
      "tensor([[500, 500, 500, 500],\n",
      "        [  2,   2,   2,   2],\n",
      "        [  3,   3,   3,   3],\n",
      "        [  4,   4,   4,   4],\n",
      "        [  5,   5,   5,   5],\n",
      "        [  6,   6,   6,   6],\n",
      "        [  7,   7,   7,   7],\n",
      "        [  8,   8,   8,   8],\n",
      "        [  9,   9,   9,   9]])\n",
      "tensor([500,   2,   3,   4,   5,   6,   7,   8,   9])\n",
      "tensor([[500],\n",
      "        [  2],\n",
      "        [  3],\n",
      "        [  4],\n",
      "        [  5],\n",
      "        [  6],\n",
      "        [  7],\n",
      "        [  8],\n",
      "        [  9]])\n"
     ]
    }
   ],
   "source": [
    "x = torch.arange(1,10)\n",
    "print(x, x.shape)\n",
    "\n",
    "# Reshaping, add an extra dimension\n",
    "x_reshaped = x.reshape(1,3,3) # The dimensions have to be appropriate for the amount of elements\n",
    "print(x_reshaped)\n",
    "\n",
    "# Change the view\n",
    "z = x.view(1,9) # Z has the same reference to x, if we change z we also change x\n",
    "print(z, z.shape)\n",
    "z[:,0] = 500\n",
    "print(z,x)\n",
    "\n",
    "# Stack tensors on top of each other\n",
    "x_stacked = torch.stack([x,x,x,x], dim = 1) # In which dimension do we stack together\n",
    "print(x_stacked)\n",
    "\n",
    "# Squeeze and Unsqueeze\n",
    "x_squeezed = torch.squeeze(x)\n",
    "print(x_squeezed)\n",
    "x_unsqueezed = torch.unsqueeze(x, 1)\n",
    "print(x_unsqueezed)\n",
    "\n"
   ]
  }
 ],
 "metadata": {
  "kernelspec": {
   "display_name": "pytorch",
   "language": "python",
   "name": "python3"
  },
  "language_info": {
   "codemirror_mode": {
    "name": "ipython",
    "version": 3
   },
   "file_extension": ".py",
   "mimetype": "text/x-python",
   "name": "python",
   "nbconvert_exporter": "python",
   "pygments_lexer": "ipython3",
   "version": "3.10.16"
  }
 },
 "nbformat": 4,
 "nbformat_minor": 2
}
